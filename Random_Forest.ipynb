{
 "cells": [
  {
   "cell_type": "markdown",
   "metadata": {},
   "source": [
    "# RANDOM FOREST REGRESSION"
   ]
  },
  {
   "cell_type": "code",
   "execution_count": 1,
   "metadata": {},
   "outputs": [],
   "source": [
    "# Importing the libraries\n",
    "import numpy as np\n",
    "import matplotlib.pyplot as plt\n",
    "import pandas as pd\n",
    "\n"
   ]
  },
  {
   "cell_type": "code",
   "execution_count": 2,
   "metadata": {},
   "outputs": [],
   "source": [
    "dataset= pd.read_csv(\"dataset_4_shipment_model.csv\")"
   ]
  },
  {
   "cell_type": "code",
   "execution_count": 3,
   "metadata": {},
   "outputs": [
    {
     "data": {
      "text/html": [
       "<div>\n",
       "<style scoped>\n",
       "    .dataframe tbody tr th:only-of-type {\n",
       "        vertical-align: middle;\n",
       "    }\n",
       "\n",
       "    .dataframe tbody tr th {\n",
       "        vertical-align: top;\n",
       "    }\n",
       "\n",
       "    .dataframe thead th {\n",
       "        text-align: right;\n",
       "    }\n",
       "</style>\n",
       "<table border=\"1\" class=\"dataframe\">\n",
       "  <thead>\n",
       "    <tr style=\"text-align: right;\">\n",
       "      <th></th>\n",
       "      <th>order_id</th>\n",
       "      <th>number_orders</th>\n",
       "      <th>number_products</th>\n",
       "      <th>number_seller</th>\n",
       "      <th>max_distance</th>\n",
       "      <th>op_carrier</th>\n",
       "      <th>product_weight_gr</th>\n",
       "      <th>mean_distance</th>\n",
       "      <th>actual_wait</th>\n",
       "    </tr>\n",
       "  </thead>\n",
       "  <tbody>\n",
       "    <tr>\n",
       "      <th>0</th>\n",
       "      <td>00010242fe8c5a6d1ba2dd792cb16214</td>\n",
       "      <td>1</td>\n",
       "      <td>1</td>\n",
       "      <td>1</td>\n",
       "      <td>9144.266345</td>\n",
       "      <td>6.0</td>\n",
       "      <td>650.0</td>\n",
       "      <td>9144.266345</td>\n",
       "      <td>7.0</td>\n",
       "    </tr>\n",
       "    <tr>\n",
       "      <th>1</th>\n",
       "      <td>00018f77f2f0320c557190d7a144bdd3</td>\n",
       "      <td>1</td>\n",
       "      <td>1</td>\n",
       "      <td>1</td>\n",
       "      <td>10513.888384</td>\n",
       "      <td>8.0</td>\n",
       "      <td>30000.0</td>\n",
       "      <td>10513.888384</td>\n",
       "      <td>16.0</td>\n",
       "    </tr>\n",
       "    <tr>\n",
       "      <th>2</th>\n",
       "      <td>000229ec398224ef6ca0657da4fc703e</td>\n",
       "      <td>1</td>\n",
       "      <td>1</td>\n",
       "      <td>1</td>\n",
       "      <td>2136.253098</td>\n",
       "      <td>1.0</td>\n",
       "      <td>3050.0</td>\n",
       "      <td>2136.253098</td>\n",
       "      <td>7.0</td>\n",
       "    </tr>\n",
       "    <tr>\n",
       "      <th>3</th>\n",
       "      <td>00024acbcdf0a6daa1e931b038114c75</td>\n",
       "      <td>1</td>\n",
       "      <td>1</td>\n",
       "      <td>1</td>\n",
       "      <td>5056.786406</td>\n",
       "      <td>2.0</td>\n",
       "      <td>200.0</td>\n",
       "      <td>5056.786406</td>\n",
       "      <td>6.0</td>\n",
       "    </tr>\n",
       "    <tr>\n",
       "      <th>4</th>\n",
       "      <td>00042b26cf59d7ce69dfabb4e55b4fd9</td>\n",
       "      <td>1</td>\n",
       "      <td>1</td>\n",
       "      <td>1</td>\n",
       "      <td>11329.586369</td>\n",
       "      <td>11.0</td>\n",
       "      <td>3750.0</td>\n",
       "      <td>11329.586369</td>\n",
       "      <td>25.0</td>\n",
       "    </tr>\n",
       "    <tr>\n",
       "      <th>...</th>\n",
       "      <td>...</td>\n",
       "      <td>...</td>\n",
       "      <td>...</td>\n",
       "      <td>...</td>\n",
       "      <td>...</td>\n",
       "      <td>...</td>\n",
       "      <td>...</td>\n",
       "      <td>...</td>\n",
       "      <td>...</td>\n",
       "    </tr>\n",
       "    <tr>\n",
       "      <th>76699</th>\n",
       "      <td>fffbee3b5462987e66fb49b1c5411df2</td>\n",
       "      <td>1</td>\n",
       "      <td>1</td>\n",
       "      <td>1</td>\n",
       "      <td>6180.268603</td>\n",
       "      <td>10.0</td>\n",
       "      <td>1050.0</td>\n",
       "      <td>6180.268603</td>\n",
       "      <td>16.0</td>\n",
       "    </tr>\n",
       "    <tr>\n",
       "      <th>76700</th>\n",
       "      <td>fffc94f6ce00a00581880bf54a75a037</td>\n",
       "      <td>1</td>\n",
       "      <td>1</td>\n",
       "      <td>1</td>\n",
       "      <td>651.543193</td>\n",
       "      <td>1.0</td>\n",
       "      <td>10150.0</td>\n",
       "      <td>651.543193</td>\n",
       "      <td>17.0</td>\n",
       "    </tr>\n",
       "    <tr>\n",
       "      <th>76701</th>\n",
       "      <td>fffcd46ef2263f404302a634eb57f7eb</td>\n",
       "      <td>1</td>\n",
       "      <td>1</td>\n",
       "      <td>1</td>\n",
       "      <td>11437.146886</td>\n",
       "      <td>2.0</td>\n",
       "      <td>8950.0</td>\n",
       "      <td>11437.146886</td>\n",
       "      <td>9.0</td>\n",
       "    </tr>\n",
       "    <tr>\n",
       "      <th>76702</th>\n",
       "      <td>fffce4705a9662cd70adb13d4a31832d</td>\n",
       "      <td>1</td>\n",
       "      <td>1</td>\n",
       "      <td>1</td>\n",
       "      <td>11437.146886</td>\n",
       "      <td>2.0</td>\n",
       "      <td>967.0</td>\n",
       "      <td>11437.146886</td>\n",
       "      <td>4.0</td>\n",
       "    </tr>\n",
       "    <tr>\n",
       "      <th>76703</th>\n",
       "      <td>fffe41c64501cc87c801fd61db3f6244</td>\n",
       "      <td>1</td>\n",
       "      <td>1</td>\n",
       "      <td>1</td>\n",
       "      <td>9068.190113</td>\n",
       "      <td>1.0</td>\n",
       "      <td>600.0</td>\n",
       "      <td>9068.190113</td>\n",
       "      <td>5.0</td>\n",
       "    </tr>\n",
       "  </tbody>\n",
       "</table>\n",
       "<p>76704 rows × 9 columns</p>\n",
       "</div>"
      ],
      "text/plain": [
       "                               order_id  number_orders  number_products  \\\n",
       "0      00010242fe8c5a6d1ba2dd792cb16214              1                1   \n",
       "1      00018f77f2f0320c557190d7a144bdd3              1                1   \n",
       "2      000229ec398224ef6ca0657da4fc703e              1                1   \n",
       "3      00024acbcdf0a6daa1e931b038114c75              1                1   \n",
       "4      00042b26cf59d7ce69dfabb4e55b4fd9              1                1   \n",
       "...                                 ...            ...              ...   \n",
       "76699  fffbee3b5462987e66fb49b1c5411df2              1                1   \n",
       "76700  fffc94f6ce00a00581880bf54a75a037              1                1   \n",
       "76701  fffcd46ef2263f404302a634eb57f7eb              1                1   \n",
       "76702  fffce4705a9662cd70adb13d4a31832d              1                1   \n",
       "76703  fffe41c64501cc87c801fd61db3f6244              1                1   \n",
       "\n",
       "       number_seller  max_distance  op_carrier  product_weight_gr  \\\n",
       "0                  1   9144.266345         6.0              650.0   \n",
       "1                  1  10513.888384         8.0            30000.0   \n",
       "2                  1   2136.253098         1.0             3050.0   \n",
       "3                  1   5056.786406         2.0              200.0   \n",
       "4                  1  11329.586369        11.0             3750.0   \n",
       "...              ...           ...         ...                ...   \n",
       "76699              1   6180.268603        10.0             1050.0   \n",
       "76700              1    651.543193         1.0            10150.0   \n",
       "76701              1  11437.146886         2.0             8950.0   \n",
       "76702              1  11437.146886         2.0              967.0   \n",
       "76703              1   9068.190113         1.0              600.0   \n",
       "\n",
       "       mean_distance  actual_wait  \n",
       "0        9144.266345          7.0  \n",
       "1       10513.888384         16.0  \n",
       "2        2136.253098          7.0  \n",
       "3        5056.786406          6.0  \n",
       "4       11329.586369         25.0  \n",
       "...              ...          ...  \n",
       "76699    6180.268603         16.0  \n",
       "76700     651.543193         17.0  \n",
       "76701   11437.146886          9.0  \n",
       "76702   11437.146886          4.0  \n",
       "76703    9068.190113          5.0  \n",
       "\n",
       "[76704 rows x 9 columns]"
      ]
     },
     "execution_count": 3,
     "metadata": {},
     "output_type": "execute_result"
    }
   ],
   "source": [
    "dataset"
   ]
  },
  {
   "cell_type": "code",
   "execution_count": 4,
   "metadata": {},
   "outputs": [],
   "source": [
    "# Define the x and the y\n",
    "#X= number orders, number products, number sellers, max distance, op carrier, product weight\n",
    "#y actual wait\n",
    "\n",
    "X = dataset.iloc[:,1:7].values\n",
    "y = dataset.iloc[:, 8].values\n"
   ]
  },
  {
   "cell_type": "code",
   "execution_count": 5,
   "metadata": {},
   "outputs": [],
   "source": [
    "#train set 80% of dataset, test set 20%\n",
    "from sklearn.model_selection import train_test_split\n",
    "X_train, X_test, y_train, y_test = train_test_split(X, y, test_size = 0.2, random_state = 0)\n",
    "\n"
   ]
  },
  {
   "cell_type": "code",
   "execution_count": 6,
   "metadata": {},
   "outputs": [],
   "source": [
    "#Perform feature scaling\n",
    "from sklearn.preprocessing import StandardScaler\n",
    "sc = StandardScaler()\n",
    "X_train = sc.fit_transform(X_train)\n",
    "X_test = sc.transform(X_test)\n",
    "\n",
    "\n"
   ]
  },
  {
   "cell_type": "code",
   "execution_count": 7,
   "metadata": {},
   "outputs": [],
   "source": [
    "#fit the model and make predictions on the test set\n",
    "from sklearn.ensemble import RandomForestClassifier\n",
    "Classifier = RandomForestClassifier(n_estimators = 100, criterion = \"gini\", max_depth = 10, max_leaf_nodes = 150, random_state = 0)\n",
    "Classifier.fit(X_train, y_train)\n",
    "y_pred = Classifier.predict(X_test)\n"
   ]
  },
  {
   "cell_type": "code",
   "execution_count": 8,
   "metadata": {},
   "outputs": [],
   "source": [
    "#importing error metrices\n",
    "from matplotlib import pyplot\n",
    "from sklearn.metrics import mean_squared_error, mean_absolute_error,mean_absolute_percentage_error"
   ]
  },
  {
   "cell_type": "code",
   "execution_count": 9,
   "metadata": {},
   "outputs": [
    {
     "name": "stdout",
     "output_type": "stream",
     "text": [
      "5.524346522390978\n"
     ]
    }
   ],
   "source": [
    "print(mean_absolute_error(y_test,y_pred)) #the model misses of 5 days (insted of the company's 11)"
   ]
  },
  {
   "cell_type": "code",
   "execution_count": 47,
   "metadata": {},
   "outputs": [
    {
     "name": "stdout",
     "output_type": "stream",
     "text": [
      "93.08806466332051\n"
     ]
    }
   ],
   "source": [
    "print(mean_squared_error(y_test,y_pred)) #9% "
   ]
  }
 ],
 "metadata": {
  "interpreter": {
   "hash": "c231c7234547d5bf015006a27eda3f614029ee8e957c5e6ec9205b3e47fd1ad2"
  },
  "kernelspec": {
   "display_name": "Python 3.8.12 ('prova')",
   "language": "python",
   "name": "python3"
  },
  "language_info": {
   "codemirror_mode": {
    "name": "ipython",
    "version": 3
   },
   "file_extension": ".py",
   "mimetype": "text/x-python",
   "name": "python",
   "nbconvert_exporter": "python",
   "pygments_lexer": "ipython3",
   "version": "3.8.12"
  },
  "orig_nbformat": 4
 },
 "nbformat": 4,
 "nbformat_minor": 2
}
