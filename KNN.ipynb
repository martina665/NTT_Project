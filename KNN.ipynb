{
 "cells": [
  {
   "cell_type": "markdown",
   "metadata": {},
   "source": [
    "KNN"
   ]
  },
  {
   "cell_type": "code",
   "execution_count": 1,
   "metadata": {},
   "outputs": [],
   "source": [
    "# Importing the libraries\n",
    "import numpy as np\n",
    "import matplotlib.pyplot as plt\n",
    "import pandas as pd\n"
   ]
  },
  {
   "cell_type": "code",
   "execution_count": 9,
   "metadata": {},
   "outputs": [],
   "source": [
    "data=pd.read_csv(\"dataset_4_shipment_model.csv\")"
   ]
  },
  {
   "cell_type": "code",
   "execution_count": 10,
   "metadata": {},
   "outputs": [],
   "source": [
    "data.columns = data.columns.str.replace('number_orders','number_items')"
   ]
  },
  {
   "cell_type": "code",
   "execution_count": 11,
   "metadata": {},
   "outputs": [
    {
     "data": {
      "text/html": [
       "<div>\n",
       "<style scoped>\n",
       "    .dataframe tbody tr th:only-of-type {\n",
       "        vertical-align: middle;\n",
       "    }\n",
       "\n",
       "    .dataframe tbody tr th {\n",
       "        vertical-align: top;\n",
       "    }\n",
       "\n",
       "    .dataframe thead th {\n",
       "        text-align: right;\n",
       "    }\n",
       "</style>\n",
       "<table border=\"1\" class=\"dataframe\">\n",
       "  <thead>\n",
       "    <tr style=\"text-align: right;\">\n",
       "      <th></th>\n",
       "      <th>order_id</th>\n",
       "      <th>number_items</th>\n",
       "      <th>number_products</th>\n",
       "      <th>number_seller</th>\n",
       "      <th>max_distance</th>\n",
       "      <th>op_carrier</th>\n",
       "      <th>product_weight_gr</th>\n",
       "      <th>mean_distance</th>\n",
       "      <th>actual_wait</th>\n",
       "    </tr>\n",
       "  </thead>\n",
       "  <tbody>\n",
       "    <tr>\n",
       "      <th>0</th>\n",
       "      <td>00010242fe8c5a6d1ba2dd792cb16214</td>\n",
       "      <td>1</td>\n",
       "      <td>1</td>\n",
       "      <td>1</td>\n",
       "      <td>9144.266345</td>\n",
       "      <td>6.0</td>\n",
       "      <td>650.0</td>\n",
       "      <td>9144.266345</td>\n",
       "      <td>7.0</td>\n",
       "    </tr>\n",
       "    <tr>\n",
       "      <th>1</th>\n",
       "      <td>00018f77f2f0320c557190d7a144bdd3</td>\n",
       "      <td>1</td>\n",
       "      <td>1</td>\n",
       "      <td>1</td>\n",
       "      <td>10513.888384</td>\n",
       "      <td>8.0</td>\n",
       "      <td>30000.0</td>\n",
       "      <td>10513.888384</td>\n",
       "      <td>16.0</td>\n",
       "    </tr>\n",
       "    <tr>\n",
       "      <th>2</th>\n",
       "      <td>000229ec398224ef6ca0657da4fc703e</td>\n",
       "      <td>1</td>\n",
       "      <td>1</td>\n",
       "      <td>1</td>\n",
       "      <td>2136.253098</td>\n",
       "      <td>1.0</td>\n",
       "      <td>3050.0</td>\n",
       "      <td>2136.253098</td>\n",
       "      <td>7.0</td>\n",
       "    </tr>\n",
       "    <tr>\n",
       "      <th>3</th>\n",
       "      <td>00024acbcdf0a6daa1e931b038114c75</td>\n",
       "      <td>1</td>\n",
       "      <td>1</td>\n",
       "      <td>1</td>\n",
       "      <td>5056.786406</td>\n",
       "      <td>2.0</td>\n",
       "      <td>200.0</td>\n",
       "      <td>5056.786406</td>\n",
       "      <td>6.0</td>\n",
       "    </tr>\n",
       "    <tr>\n",
       "      <th>4</th>\n",
       "      <td>00042b26cf59d7ce69dfabb4e55b4fd9</td>\n",
       "      <td>1</td>\n",
       "      <td>1</td>\n",
       "      <td>1</td>\n",
       "      <td>11329.586369</td>\n",
       "      <td>11.0</td>\n",
       "      <td>3750.0</td>\n",
       "      <td>11329.586369</td>\n",
       "      <td>25.0</td>\n",
       "    </tr>\n",
       "    <tr>\n",
       "      <th>...</th>\n",
       "      <td>...</td>\n",
       "      <td>...</td>\n",
       "      <td>...</td>\n",
       "      <td>...</td>\n",
       "      <td>...</td>\n",
       "      <td>...</td>\n",
       "      <td>...</td>\n",
       "      <td>...</td>\n",
       "      <td>...</td>\n",
       "    </tr>\n",
       "    <tr>\n",
       "      <th>76699</th>\n",
       "      <td>fffbee3b5462987e66fb49b1c5411df2</td>\n",
       "      <td>1</td>\n",
       "      <td>1</td>\n",
       "      <td>1</td>\n",
       "      <td>6180.268603</td>\n",
       "      <td>10.0</td>\n",
       "      <td>1050.0</td>\n",
       "      <td>6180.268603</td>\n",
       "      <td>16.0</td>\n",
       "    </tr>\n",
       "    <tr>\n",
       "      <th>76700</th>\n",
       "      <td>fffc94f6ce00a00581880bf54a75a037</td>\n",
       "      <td>1</td>\n",
       "      <td>1</td>\n",
       "      <td>1</td>\n",
       "      <td>651.543193</td>\n",
       "      <td>1.0</td>\n",
       "      <td>10150.0</td>\n",
       "      <td>651.543193</td>\n",
       "      <td>17.0</td>\n",
       "    </tr>\n",
       "    <tr>\n",
       "      <th>76701</th>\n",
       "      <td>fffcd46ef2263f404302a634eb57f7eb</td>\n",
       "      <td>1</td>\n",
       "      <td>1</td>\n",
       "      <td>1</td>\n",
       "      <td>11437.146886</td>\n",
       "      <td>2.0</td>\n",
       "      <td>8950.0</td>\n",
       "      <td>11437.146886</td>\n",
       "      <td>9.0</td>\n",
       "    </tr>\n",
       "    <tr>\n",
       "      <th>76702</th>\n",
       "      <td>fffce4705a9662cd70adb13d4a31832d</td>\n",
       "      <td>1</td>\n",
       "      <td>1</td>\n",
       "      <td>1</td>\n",
       "      <td>11437.146886</td>\n",
       "      <td>2.0</td>\n",
       "      <td>967.0</td>\n",
       "      <td>11437.146886</td>\n",
       "      <td>4.0</td>\n",
       "    </tr>\n",
       "    <tr>\n",
       "      <th>76703</th>\n",
       "      <td>fffe41c64501cc87c801fd61db3f6244</td>\n",
       "      <td>1</td>\n",
       "      <td>1</td>\n",
       "      <td>1</td>\n",
       "      <td>9068.190113</td>\n",
       "      <td>1.0</td>\n",
       "      <td>600.0</td>\n",
       "      <td>9068.190113</td>\n",
       "      <td>5.0</td>\n",
       "    </tr>\n",
       "  </tbody>\n",
       "</table>\n",
       "<p>76704 rows × 9 columns</p>\n",
       "</div>"
      ],
      "text/plain": [
       "                               order_id  number_items  number_products  \\\n",
       "0      00010242fe8c5a6d1ba2dd792cb16214             1                1   \n",
       "1      00018f77f2f0320c557190d7a144bdd3             1                1   \n",
       "2      000229ec398224ef6ca0657da4fc703e             1                1   \n",
       "3      00024acbcdf0a6daa1e931b038114c75             1                1   \n",
       "4      00042b26cf59d7ce69dfabb4e55b4fd9             1                1   \n",
       "...                                 ...           ...              ...   \n",
       "76699  fffbee3b5462987e66fb49b1c5411df2             1                1   \n",
       "76700  fffc94f6ce00a00581880bf54a75a037             1                1   \n",
       "76701  fffcd46ef2263f404302a634eb57f7eb             1                1   \n",
       "76702  fffce4705a9662cd70adb13d4a31832d             1                1   \n",
       "76703  fffe41c64501cc87c801fd61db3f6244             1                1   \n",
       "\n",
       "       number_seller  max_distance  op_carrier  product_weight_gr  \\\n",
       "0                  1   9144.266345         6.0              650.0   \n",
       "1                  1  10513.888384         8.0            30000.0   \n",
       "2                  1   2136.253098         1.0             3050.0   \n",
       "3                  1   5056.786406         2.0              200.0   \n",
       "4                  1  11329.586369        11.0             3750.0   \n",
       "...              ...           ...         ...                ...   \n",
       "76699              1   6180.268603        10.0             1050.0   \n",
       "76700              1    651.543193         1.0            10150.0   \n",
       "76701              1  11437.146886         2.0             8950.0   \n",
       "76702              1  11437.146886         2.0              967.0   \n",
       "76703              1   9068.190113         1.0              600.0   \n",
       "\n",
       "       mean_distance  actual_wait  \n",
       "0        9144.266345          7.0  \n",
       "1       10513.888384         16.0  \n",
       "2        2136.253098          7.0  \n",
       "3        5056.786406          6.0  \n",
       "4       11329.586369         25.0  \n",
       "...              ...          ...  \n",
       "76699    6180.268603         16.0  \n",
       "76700     651.543193         17.0  \n",
       "76701   11437.146886          9.0  \n",
       "76702   11437.146886          4.0  \n",
       "76703    9068.190113          5.0  \n",
       "\n",
       "[76704 rows x 9 columns]"
      ]
     },
     "execution_count": 11,
     "metadata": {},
     "output_type": "execute_result"
    }
   ],
   "source": [
    "data"
   ]
  },
  {
   "cell_type": "code",
   "execution_count": 12,
   "metadata": {},
   "outputs": [],
   "source": [
    "data.drop(\"mean_distance\", axis=1, inplace=True)"
   ]
  },
  {
   "cell_type": "code",
   "execution_count": 13,
   "metadata": {},
   "outputs": [
    {
     "name": "stdout",
     "output_type": "stream",
     "text": [
      "<class 'pandas.core.frame.DataFrame'>\n",
      "RangeIndex: 76704 entries, 0 to 76703\n",
      "Data columns (total 8 columns):\n",
      " #   Column             Non-Null Count  Dtype  \n",
      "---  ------             --------------  -----  \n",
      " 0   order_id           76704 non-null  object \n",
      " 1   number_items       76704 non-null  int64  \n",
      " 2   number_products    76704 non-null  int64  \n",
      " 3   number_seller      76704 non-null  int64  \n",
      " 4   max_distance       76704 non-null  float64\n",
      " 5   op_carrier         76704 non-null  float64\n",
      " 6   product_weight_gr  76704 non-null  float64\n",
      " 7   actual_wait        76704 non-null  float64\n",
      "dtypes: float64(4), int64(3), object(1)\n",
      "memory usage: 4.7+ MB\n"
     ]
    }
   ],
   "source": [
    "data.info()"
   ]
  },
  {
   "cell_type": "code",
   "execution_count": 14,
   "metadata": {},
   "outputs": [
    {
     "data": {
      "text/plain": [
       "order_id             0\n",
       "number_items         0\n",
       "number_products      0\n",
       "number_seller        0\n",
       "max_distance         0\n",
       "op_carrier           0\n",
       "product_weight_gr    0\n",
       "actual_wait          0\n",
       "dtype: int64"
      ]
     },
     "execution_count": 14,
     "metadata": {},
     "output_type": "execute_result"
    }
   ],
   "source": [
    "data.isna().sum()"
   ]
  },
  {
   "cell_type": "code",
   "execution_count": 15,
   "metadata": {},
   "outputs": [],
   "source": [
    "data=data.dropna()"
   ]
  },
  {
   "cell_type": "code",
   "execution_count": 16,
   "metadata": {},
   "outputs": [
    {
     "data": {
      "text/html": [
       "<div>\n",
       "<style scoped>\n",
       "    .dataframe tbody tr th:only-of-type {\n",
       "        vertical-align: middle;\n",
       "    }\n",
       "\n",
       "    .dataframe tbody tr th {\n",
       "        vertical-align: top;\n",
       "    }\n",
       "\n",
       "    .dataframe thead th {\n",
       "        text-align: right;\n",
       "    }\n",
       "</style>\n",
       "<table border=\"1\" class=\"dataframe\">\n",
       "  <thead>\n",
       "    <tr style=\"text-align: right;\">\n",
       "      <th></th>\n",
       "      <th>order_id</th>\n",
       "      <th>number_items</th>\n",
       "      <th>number_products</th>\n",
       "      <th>number_seller</th>\n",
       "      <th>max_distance</th>\n",
       "      <th>op_carrier</th>\n",
       "      <th>product_weight_gr</th>\n",
       "      <th>actual_wait</th>\n",
       "    </tr>\n",
       "  </thead>\n",
       "  <tbody>\n",
       "    <tr>\n",
       "      <th>0</th>\n",
       "      <td>00010242fe8c5a6d1ba2dd792cb16214</td>\n",
       "      <td>1</td>\n",
       "      <td>1</td>\n",
       "      <td>1</td>\n",
       "      <td>9144.266345</td>\n",
       "      <td>6.0</td>\n",
       "      <td>650.0</td>\n",
       "      <td>7.0</td>\n",
       "    </tr>\n",
       "    <tr>\n",
       "      <th>1</th>\n",
       "      <td>00018f77f2f0320c557190d7a144bdd3</td>\n",
       "      <td>1</td>\n",
       "      <td>1</td>\n",
       "      <td>1</td>\n",
       "      <td>10513.888384</td>\n",
       "      <td>8.0</td>\n",
       "      <td>30000.0</td>\n",
       "      <td>16.0</td>\n",
       "    </tr>\n",
       "    <tr>\n",
       "      <th>2</th>\n",
       "      <td>000229ec398224ef6ca0657da4fc703e</td>\n",
       "      <td>1</td>\n",
       "      <td>1</td>\n",
       "      <td>1</td>\n",
       "      <td>2136.253098</td>\n",
       "      <td>1.0</td>\n",
       "      <td>3050.0</td>\n",
       "      <td>7.0</td>\n",
       "    </tr>\n",
       "    <tr>\n",
       "      <th>3</th>\n",
       "      <td>00024acbcdf0a6daa1e931b038114c75</td>\n",
       "      <td>1</td>\n",
       "      <td>1</td>\n",
       "      <td>1</td>\n",
       "      <td>5056.786406</td>\n",
       "      <td>2.0</td>\n",
       "      <td>200.0</td>\n",
       "      <td>6.0</td>\n",
       "    </tr>\n",
       "    <tr>\n",
       "      <th>4</th>\n",
       "      <td>00042b26cf59d7ce69dfabb4e55b4fd9</td>\n",
       "      <td>1</td>\n",
       "      <td>1</td>\n",
       "      <td>1</td>\n",
       "      <td>11329.586369</td>\n",
       "      <td>11.0</td>\n",
       "      <td>3750.0</td>\n",
       "      <td>25.0</td>\n",
       "    </tr>\n",
       "    <tr>\n",
       "      <th>...</th>\n",
       "      <td>...</td>\n",
       "      <td>...</td>\n",
       "      <td>...</td>\n",
       "      <td>...</td>\n",
       "      <td>...</td>\n",
       "      <td>...</td>\n",
       "      <td>...</td>\n",
       "      <td>...</td>\n",
       "    </tr>\n",
       "    <tr>\n",
       "      <th>76699</th>\n",
       "      <td>fffbee3b5462987e66fb49b1c5411df2</td>\n",
       "      <td>1</td>\n",
       "      <td>1</td>\n",
       "      <td>1</td>\n",
       "      <td>6180.268603</td>\n",
       "      <td>10.0</td>\n",
       "      <td>1050.0</td>\n",
       "      <td>16.0</td>\n",
       "    </tr>\n",
       "    <tr>\n",
       "      <th>76700</th>\n",
       "      <td>fffc94f6ce00a00581880bf54a75a037</td>\n",
       "      <td>1</td>\n",
       "      <td>1</td>\n",
       "      <td>1</td>\n",
       "      <td>651.543193</td>\n",
       "      <td>1.0</td>\n",
       "      <td>10150.0</td>\n",
       "      <td>17.0</td>\n",
       "    </tr>\n",
       "    <tr>\n",
       "      <th>76701</th>\n",
       "      <td>fffcd46ef2263f404302a634eb57f7eb</td>\n",
       "      <td>1</td>\n",
       "      <td>1</td>\n",
       "      <td>1</td>\n",
       "      <td>11437.146886</td>\n",
       "      <td>2.0</td>\n",
       "      <td>8950.0</td>\n",
       "      <td>9.0</td>\n",
       "    </tr>\n",
       "    <tr>\n",
       "      <th>76702</th>\n",
       "      <td>fffce4705a9662cd70adb13d4a31832d</td>\n",
       "      <td>1</td>\n",
       "      <td>1</td>\n",
       "      <td>1</td>\n",
       "      <td>11437.146886</td>\n",
       "      <td>2.0</td>\n",
       "      <td>967.0</td>\n",
       "      <td>4.0</td>\n",
       "    </tr>\n",
       "    <tr>\n",
       "      <th>76703</th>\n",
       "      <td>fffe41c64501cc87c801fd61db3f6244</td>\n",
       "      <td>1</td>\n",
       "      <td>1</td>\n",
       "      <td>1</td>\n",
       "      <td>9068.190113</td>\n",
       "      <td>1.0</td>\n",
       "      <td>600.0</td>\n",
       "      <td>5.0</td>\n",
       "    </tr>\n",
       "  </tbody>\n",
       "</table>\n",
       "<p>76704 rows × 8 columns</p>\n",
       "</div>"
      ],
      "text/plain": [
       "                               order_id  number_items  number_products  \\\n",
       "0      00010242fe8c5a6d1ba2dd792cb16214             1                1   \n",
       "1      00018f77f2f0320c557190d7a144bdd3             1                1   \n",
       "2      000229ec398224ef6ca0657da4fc703e             1                1   \n",
       "3      00024acbcdf0a6daa1e931b038114c75             1                1   \n",
       "4      00042b26cf59d7ce69dfabb4e55b4fd9             1                1   \n",
       "...                                 ...           ...              ...   \n",
       "76699  fffbee3b5462987e66fb49b1c5411df2             1                1   \n",
       "76700  fffc94f6ce00a00581880bf54a75a037             1                1   \n",
       "76701  fffcd46ef2263f404302a634eb57f7eb             1                1   \n",
       "76702  fffce4705a9662cd70adb13d4a31832d             1                1   \n",
       "76703  fffe41c64501cc87c801fd61db3f6244             1                1   \n",
       "\n",
       "       number_seller  max_distance  op_carrier  product_weight_gr  actual_wait  \n",
       "0                  1   9144.266345         6.0              650.0          7.0  \n",
       "1                  1  10513.888384         8.0            30000.0         16.0  \n",
       "2                  1   2136.253098         1.0             3050.0          7.0  \n",
       "3                  1   5056.786406         2.0              200.0          6.0  \n",
       "4                  1  11329.586369        11.0             3750.0         25.0  \n",
       "...              ...           ...         ...                ...          ...  \n",
       "76699              1   6180.268603        10.0             1050.0         16.0  \n",
       "76700              1    651.543193         1.0            10150.0         17.0  \n",
       "76701              1  11437.146886         2.0             8950.0          9.0  \n",
       "76702              1  11437.146886         2.0              967.0          4.0  \n",
       "76703              1   9068.190113         1.0              600.0          5.0  \n",
       "\n",
       "[76704 rows x 8 columns]"
      ]
     },
     "execution_count": 16,
     "metadata": {},
     "output_type": "execute_result"
    }
   ],
   "source": [
    "data"
   ]
  },
  {
   "cell_type": "code",
   "execution_count": 18,
   "metadata": {},
   "outputs": [],
   "source": [
    "# Define the x and the y\n",
    "#X= number orders, number products, number sellers, max distance, op carrier, product weight\n",
    "#y actual wait\n",
    "\n",
    "X = data.iloc[:,1:7].values\n",
    "y = data.iloc[:, 7].values"
   ]
  },
  {
   "cell_type": "code",
   "execution_count": 19,
   "metadata": {},
   "outputs": [],
   "source": [
    "# Splitting the dataset into the Training set and Test set\n",
    "from sklearn.model_selection import train_test_split\n",
    "X_train, X_test, y_train, y_test = train_test_split(X, y, test_size = 0.20, random_state = 0)"
   ]
  },
  {
   "cell_type": "code",
   "execution_count": 20,
   "metadata": {},
   "outputs": [],
   "source": [
    "# Feature Scaling\n",
    "from sklearn.preprocessing import StandardScaler\n",
    "sc = StandardScaler()\n",
    "X_train = sc.fit_transform(X_train)\n",
    "X_test = sc.transform(X_test)\n"
   ]
  },
  {
   "cell_type": "code",
   "execution_count": 21,
   "metadata": {},
   "outputs": [
    {
     "data": {
      "text/plain": [
       "KNeighborsClassifier()"
      ]
     },
     "execution_count": 21,
     "metadata": {},
     "output_type": "execute_result"
    }
   ],
   "source": [
    "# Fitting K-NN to the Training set\n",
    "from sklearn.neighbors import KNeighborsClassifier\n",
    "classifier = KNeighborsClassifier(n_neighbors = 5, metric = 'minkowski', p = 2)\n",
    "classifier.fit(X_train, y_train)\n"
   ]
  },
  {
   "cell_type": "code",
   "execution_count": 22,
   "metadata": {},
   "outputs": [],
   "source": [
    "# Predicting the Test set results\n",
    "y_pred = classifier.predict(X_test)\n"
   ]
  },
  {
   "cell_type": "code",
   "execution_count": 23,
   "metadata": {},
   "outputs": [],
   "source": [
    "from matplotlib import pyplot\n",
    "from sklearn.metrics import mean_squared_error, mean_absolute_error,mean_absolute_percentage_error"
   ]
  },
  {
   "cell_type": "code",
   "execution_count": 24,
   "metadata": {},
   "outputs": [
    {
     "name": "stdout",
     "output_type": "stream",
     "text": [
      "6.403233166025683\n"
     ]
    }
   ],
   "source": [
    "print(mean_absolute_error(y_test,y_pred)) #misses of 6.4 days"
   ]
  },
  {
   "cell_type": "code",
   "execution_count": 25,
   "metadata": {},
   "outputs": [
    {
     "name": "stdout",
     "output_type": "stream",
     "text": [
      "108.71286096082393\n"
     ]
    }
   ],
   "source": [
    "print(mean_squared_error(y_test,y_pred)) #rmse = 10% "
   ]
  },
  {
   "cell_type": "code",
   "execution_count": 26,
   "metadata": {},
   "outputs": [
    {
     "data": {
      "image/png": "[encoded data removed]",
      "text/plain": [
       "<Figure size 720x720 with 1 Axes>"
      ]
     },
     "metadata": {
      "needs_background": "light"
     },
     "output_type": "display_data"
    }
   ],
   "source": [
    "plt.figure(figsize=(10,10))\n",
    "plt.scatter(y_test, y_pred, c='crimson')\n",
    "plt.yscale('log')\n",
    "plt.xscale('log')\n",
    "\n",
    "p1 = max(max(y_pred), max(y_test))\n",
    "p2 = min(min(y_pred), min(y_test))\n",
    "plt.plot([p1, p2], [p1, p2], 'b-')\n",
    "plt.xlabel('True Values', fontsize=15)\n",
    "plt.ylabel('Predictions', fontsize=15)\n",
    "plt.axis('equal')\n",
    "plt.show()"
   ]
  }
 ],
 "metadata": {
  "interpreter": {
   "hash": "c231c7234547d5bf015006a27eda3f614029ee8e957c5e6ec9205b3e47fd1ad2"
  },
  "kernelspec": {
   "display_name": "Python 3.8.12 ('prova')",
   "language": "python",
   "name": "python3"
  },
  "language_info": {
   "codemirror_mode": {
    "name": "ipython",
    "version": 3
   },
   "file_extension": ".py",
   "mimetype": "text/x-python",
   "name": "python",
   "nbconvert_exporter": "python",
   "pygments_lexer": "ipython3",
   "version": "3.8.12"
  },
  "orig_nbformat": 4
 },
 "nbformat": 4,
 "nbformat_minor": 2
}
